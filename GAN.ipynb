{
  "nbformat": 4,
  "nbformat_minor": 0,
  "metadata": {
    "colab": {
      "provenance": [],
      "authorship_tag": "ABX9TyPIQOWT7gWtyINp2yaEwd4e",
      "include_colab_link": true
    },
    "kernelspec": {
      "name": "python3",
      "display_name": "Python 3"
    },
    "language_info": {
      "name": "python"
    }
  },
  "cells": [
    {
      "cell_type": "markdown",
      "metadata": {
        "id": "view-in-github",
        "colab_type": "text"
      },
      "source": [
        "<a href=\"https://colab.research.google.com/github/SMahabeer/ICE-Task-3/blob/main/GAN.ipynb\" target=\"_parent\"><img src=\"https://colab.research.google.com/assets/colab-badge.svg\" alt=\"Open In Colab\"/></a>"
      ]
    },
    {
      "cell_type": "code",
      "execution_count": 1,
      "metadata": {
        "id": "Whl4qRL4Dp3X"
      },
      "outputs": [],
      "source": [
        "import matplotlib as mp\n",
        "import matplotlib.pyplot as plt\n",
        "import numpy as np\n",
        "import torch\n",
        "from torch import nn\n",
        "import math\n",
        "import torchvision\n",
        "import torchvision.transforms as transforms"
      ]
    },
    {
      "cell_type": "code",
      "source": [
        "torch.manual_seed(111)"
      ],
      "metadata": {
        "colab": {
          "base_uri": "https://localhost:8080/"
        },
        "id": "sqMbhdWrEKi8",
        "outputId": "552d68d7-7126-415a-882e-a2da7f7aec5c"
      },
      "execution_count": 2,
      "outputs": [
        {
          "output_type": "execute_result",
          "data": {
            "text/plain": [
              "<torch._C.Generator at 0x7bd0e4438450>"
            ]
          },
          "metadata": {},
          "execution_count": 2
        }
      ]
    },
    {
      "cell_type": "code",
      "source": [
        "train_data_length = 1024\n",
        "train_data = torch.zeros((train_data_length, 2))\n",
        "train_data[:, 0] = 2 * math.pi * torch.rand(train_data_length)\n",
        "train_data[:, 1] = torch.sin(train_data[:, 0])\n",
        "train_labels = torch.zeros(train_data_length)\n",
        "train_set = [\n",
        "    (train_data[i], train_labels[i]) for i in range(train_data_length)\n",
        "]"
      ],
      "metadata": {
        "id": "oa3gv9O8EPcv"
      },
      "execution_count": 3,
      "outputs": []
    },
    {
      "cell_type": "code",
      "source": [
        "plt.plot(train_data[:, 0], train_data[:, 1], \".\")"
      ],
      "metadata": {
        "colab": {
          "base_uri": "https://localhost:8080/",
          "height": 447
        },
        "id": "lM_WWneYESIP",
        "outputId": "e4f6f70f-2fa0-4e4d-8c0b-9d0b84b1d4a1"
      },
      "execution_count": 4,
      "outputs": [
        {
          "output_type": "execute_result",
          "data": {
            "text/plain": [
              "[<matplotlib.lines.Line2D at 0x7bcff8b70dd0>]"
            ]
          },
          "metadata": {},
          "execution_count": 4
        },
        {
          "output_type": "display_data",
          "data": {
            "text/plain": [
              "<Figure size 640x480 with 1 Axes>"
            ],
            "image/png": "[encoded data removed]"
          },
          "metadata": {}
        }
      ]
    },
    {
      "cell_type": "code",
      "source": [
        "batch_size = 32\n",
        "train_loader = torch.utils.data.DataLoader(\n",
        "    train_set, batch_size=batch_size, shuffle=True\n",
        ")"
      ],
      "metadata": {
        "id": "CsRmQ7yEEVdt"
      },
      "execution_count": 5,
      "outputs": []
    },
    {
      "cell_type": "code",
      "source": [
        "class Discriminator(nn.Module):\n",
        "    def __init__(self):\n",
        "        super().__init__()\n",
        "        self.model = nn.Sequential(\n",
        "            nn.Linear(2, 256),\n",
        "            nn.ReLU(),\n",
        "            nn.Dropout(0.3),\n",
        "            nn.Linear(256, 128),\n",
        "            nn.ReLU(),\n",
        "            nn.Dropout(0.3),\n",
        "            nn.Linear(128, 64),\n",
        "            nn.ReLU(),\n",
        "            nn.Dropout(0.3),\n",
        "            nn.Linear(64, 1),\n",
        "            nn.Sigmoid(),\n",
        "        )\n",
        "\n",
        "    def forward(self, x):\n",
        "        output = self.model(x)\n",
        "        return output"
      ],
      "metadata": {
        "id": "wvSLO4UwEbj6"
      },
      "execution_count": 6,
      "outputs": []
    },
    {
      "cell_type": "code",
      "source": [
        "discriminator = Discriminator()"
      ],
      "metadata": {
        "id": "3A2hilYWEh5m"
      },
      "execution_count": 7,
      "outputs": []
    },
    {
      "cell_type": "code",
      "source": [
        "class Generator(nn.Module):\n",
        "    def __init__(self):\n",
        "        super().__init__()\n",
        "        self.model = nn.Sequential(\n",
        "            nn.Linear(2, 16),\n",
        "            nn.ReLU(),\n",
        "            nn.Linear(16, 32),\n",
        "            nn.ReLU(),\n",
        "            nn.Linear(32, 2),\n",
        "        )\n",
        "\n",
        "    def forward(self, x):\n",
        "        output = self.model(x)\n",
        "        return output\n",
        "\n",
        "generator = Generator()"
      ],
      "metadata": {
        "id": "LfyGXxEkEkk1"
      },
      "execution_count": 8,
      "outputs": []
    },
    {
      "cell_type": "code",
      "source": [
        "lr = 0.001\n",
        "num_epochs = 300\n",
        "loss_function = nn.BCELoss()"
      ],
      "metadata": {
        "id": "TbQXVmCGEptZ"
      },
      "execution_count": 9,
      "outputs": []
    },
    {
      "cell_type": "code",
      "source": [
        "optimizer_discriminator = torch.optim.Adam(discriminator.parameters(), lr=lr)\n",
        "optimizer_generator = torch.optim.Adam(generator.parameters(), lr=lr)"
      ],
      "metadata": {
        "id": "yX7lxYpTE34K"
      },
      "execution_count": 10,
      "outputs": []
    },
    {
      "cell_type": "code",
      "source": [
        "for epoch in range(num_epochs):\n",
        "    for n, (real_samples, _) in enumerate(train_loader):\n",
        "        # Data for training the discriminator\n",
        "        real_samples_labels = torch.ones((batch_size, 1))\n",
        "        latent_space_samples = torch.randn((batch_size, 2))\n",
        "        generated_samples = generator(latent_space_samples)\n",
        "        generated_samples_labels = torch.zeros((batch_size, 1))\n",
        "        all_samples = torch.cat((real_samples, generated_samples))\n",
        "        all_samples_labels = torch.cat(\n",
        "            (real_samples_labels, generated_samples_labels)\n",
        "        )\n",
        "\n",
        "        # Training the discriminator\n",
        "        discriminator.zero_grad()\n",
        "        output_discriminator = discriminator(all_samples)\n",
        "        loss_discriminator = loss_function(\n",
        "            output_discriminator, all_samples_labels)\n",
        "        loss_discriminator.backward()\n",
        "        optimizer_discriminator.step()\n",
        "\n",
        "        # Data for training the generator\n",
        "        latent_space_samples = torch.randn((batch_size, 2))\n",
        "\n",
        "        # Training the generator\n",
        "        generator.zero_grad()\n",
        "        generated_samples = generator(latent_space_samples)\n",
        "        output_discriminator_generated = discriminator(generated_samples)\n",
        "        loss_generator = loss_function(\n",
        "            output_discriminator_generated, real_samples_labels\n",
        "        )\n",
        "        loss_generator.backward()\n",
        "        optimizer_generator.step()\n",
        "\n",
        "        # Show loss\n",
        "        if epoch % 10 == 0 and n == batch_size - 1:\n",
        "            print(f\"Epoch: {epoch} Loss D.: {loss_discriminator}\")\n",
        "            print(f\"Epoch: {epoch} Loss G.: {loss_generator}\")"
      ],
      "metadata": {
        "colab": {
          "base_uri": "https://localhost:8080/"
        },
        "id": "yEtXlvmHE7he",
        "outputId": "02a60cd4-640d-4afe-c33c-56b1e498f96d"
      },
      "execution_count": 11,
      "outputs": [
        {
          "output_type": "stream",
          "name": "stdout",
          "text": [
            "Epoch: 0 Loss D.: 0.19106777012348175\n",
            "Epoch: 0 Loss G.: 1.888679027557373\n",
            "Epoch: 10 Loss D.: 0.6593940854072571\n",
            "Epoch: 10 Loss G.: 0.9345511198043823\n",
            "Epoch: 20 Loss D.: 0.6652078628540039\n",
            "Epoch: 20 Loss G.: 0.9237955808639526\n",
            "Epoch: 30 Loss D.: 0.641313910484314\n",
            "Epoch: 30 Loss G.: 1.2015199661254883\n",
            "Epoch: 40 Loss D.: 0.641319751739502\n",
            "Epoch: 40 Loss G.: 0.888908863067627\n",
            "Epoch: 50 Loss D.: 0.6150982975959778\n",
            "Epoch: 50 Loss G.: 0.7767004370689392\n",
            "Epoch: 60 Loss D.: 0.6709685325622559\n",
            "Epoch: 60 Loss G.: 0.960426390171051\n",
            "Epoch: 70 Loss D.: 0.7082744240760803\n",
            "Epoch: 70 Loss G.: 0.6963481903076172\n",
            "Epoch: 80 Loss D.: 0.6969344019889832\n",
            "Epoch: 80 Loss G.: 0.7154377102851868\n",
            "Epoch: 90 Loss D.: 0.6964524984359741\n",
            "Epoch: 90 Loss G.: 0.6930248737335205\n",
            "Epoch: 100 Loss D.: 0.6739951968193054\n",
            "Epoch: 100 Loss G.: 0.6828322410583496\n",
            "Epoch: 110 Loss D.: 0.6988975405693054\n",
            "Epoch: 110 Loss G.: 0.6890343427658081\n",
            "Epoch: 120 Loss D.: 0.6542428731918335\n",
            "Epoch: 120 Loss G.: 0.7526243925094604\n",
            "Epoch: 130 Loss D.: 0.6785508394241333\n",
            "Epoch: 130 Loss G.: 0.7214392423629761\n",
            "Epoch: 140 Loss D.: 0.6713313460350037\n",
            "Epoch: 140 Loss G.: 0.9905208945274353\n",
            "Epoch: 150 Loss D.: 0.6244789361953735\n",
            "Epoch: 150 Loss G.: 0.8868338465690613\n",
            "Epoch: 160 Loss D.: 0.6433807015419006\n",
            "Epoch: 160 Loss G.: 0.877221405506134\n",
            "Epoch: 170 Loss D.: 0.6085188388824463\n",
            "Epoch: 170 Loss G.: 1.2199158668518066\n",
            "Epoch: 180 Loss D.: 0.627951979637146\n",
            "Epoch: 180 Loss G.: 0.7479653358459473\n",
            "Epoch: 190 Loss D.: 0.7258119583129883\n",
            "Epoch: 190 Loss G.: 0.7802707552909851\n",
            "Epoch: 200 Loss D.: 0.6872613430023193\n",
            "Epoch: 200 Loss G.: 0.8110033273696899\n",
            "Epoch: 210 Loss D.: 0.6713621616363525\n",
            "Epoch: 210 Loss G.: 1.0470393896102905\n",
            "Epoch: 220 Loss D.: 0.7211101055145264\n",
            "Epoch: 220 Loss G.: 0.8180935382843018\n",
            "Epoch: 230 Loss D.: 0.7034702301025391\n",
            "Epoch: 230 Loss G.: 0.7519649863243103\n",
            "Epoch: 240 Loss D.: 0.6815218925476074\n",
            "Epoch: 240 Loss G.: 0.8854950666427612\n",
            "Epoch: 250 Loss D.: 0.6458157300949097\n",
            "Epoch: 250 Loss G.: 0.87900710105896\n",
            "Epoch: 260 Loss D.: 0.6823645830154419\n",
            "Epoch: 260 Loss G.: 0.7525910139083862\n",
            "Epoch: 270 Loss D.: 0.622257649898529\n",
            "Epoch: 270 Loss G.: 0.7235262393951416\n",
            "Epoch: 280 Loss D.: 0.7472313642501831\n",
            "Epoch: 280 Loss G.: 0.7774851322174072\n",
            "Epoch: 290 Loss D.: 0.6672558784484863\n",
            "Epoch: 290 Loss G.: 0.7349084615707397\n"
          ]
        }
      ]
    },
    {
      "cell_type": "code",
      "source": [
        "latent_space_samples = torch.randn(100, 2)\n",
        "generated_samples = generator(latent_space_samples)"
      ],
      "metadata": {
        "id": "Gjl_q0shFFcp"
      },
      "execution_count": 12,
      "outputs": []
    },
    {
      "cell_type": "code",
      "source": [
        "generated_samples = generated_samples.detach()\n",
        "plt.plot(generated_samples[:, 0], generated_samples[:, 1], \".\")"
      ],
      "metadata": {
        "colab": {
          "base_uri": "https://localhost:8080/",
          "height": 447
        },
        "id": "eJ3BzlmiFTqz",
        "outputId": "d15fe572-ba3d-4bf7-dac4-2724c3a49753"
      },
      "execution_count": 13,
      "outputs": [
        {
          "output_type": "execute_result",
          "data": {
            "text/plain": [
              "[<matplotlib.lines.Line2D at 0x7bcff63a3050>]"
            ]
          },
          "metadata": {},
          "execution_count": 13
        },
        {
          "output_type": "display_data",
          "data": {
            "text/plain": [
              "<Figure size 640x480 with 1 Axes>"
            ],
            "image/png": "[encoded data removed]"
          },
          "metadata": {}
        }
      ]
    },
    {
      "cell_type": "code",
      "source": [
        "torch.manual_seed(111)"
      ],
      "metadata": {
        "colab": {
          "base_uri": "https://localhost:8080/"
        },
        "id": "vrlFElEAFdOY",
        "outputId": "d9e0ec16-85c8-4e9f-e90e-516ff8660c32"
      },
      "execution_count": 14,
      "outputs": [
        {
          "output_type": "execute_result",
          "data": {
            "text/plain": [
              "<torch._C.Generator at 0x7bd0e4438450>"
            ]
          },
          "metadata": {},
          "execution_count": 14
        }
      ]
    },
    {
      "cell_type": "code",
      "source": [
        "device = \"\"\n",
        "if torch.cuda.is_available():\n",
        "    device = torch.device(\"cuda\")\n",
        "else:\n",
        "    device = torch.device(\"cpu\")"
      ],
      "metadata": {
        "id": "PGLivOKTFf3j"
      },
      "execution_count": 15,
      "outputs": []
    },
    {
      "cell_type": "code",
      "source": [
        "transform = transforms.Compose(\n",
        "    [transforms.ToTensor(), transforms.Normalize((0.5,), (0.5,))]\n",
        ")"
      ],
      "metadata": {
        "id": "UoY4vKK_Fhmm"
      },
      "execution_count": 16,
      "outputs": []
    },
    {
      "cell_type": "code",
      "source": [
        "train_set = torchvision.datasets.MNIST(\n",
        "    root=\".\", train=True, download=True, transform=transform\n",
        ")"
      ],
      "metadata": {
        "id": "RXYh9BRDFjbI",
        "colab": {
          "base_uri": "https://localhost:8080/"
        },
        "outputId": "0ed90e6e-6ed5-4810-b5d8-7d35d197e6d1"
      },
      "execution_count": 17,
      "outputs": [
        {
          "output_type": "stream",
          "name": "stderr",
          "text": [
            "100%|██████████| 9.91M/9.91M [00:00<00:00, 22.4MB/s]\n",
            "100%|██████████| 28.9k/28.9k [00:00<00:00, 606kB/s]\n",
            "100%|██████████| 1.65M/1.65M [00:00<00:00, 5.63MB/s]\n",
            "100%|██████████| 4.54k/4.54k [00:00<00:00, 6.94MB/s]\n"
          ]
        }
      ]
    },
    {
      "cell_type": "code",
      "source": [
        "batch_size = 32\n",
        "train_loader = torch.utils.data.DataLoader(\n",
        "    train_set, batch_size=batch_size, shuffle=True\n",
        ")"
      ],
      "metadata": {
        "id": "KFgAbZcoFyCG"
      },
      "execution_count": 18,
      "outputs": []
    },
    {
      "cell_type": "code",
      "source": [
        "real_samples, mnist_labels = next(iter(train_loader))\n",
        "for i in range(16):\n",
        "    ax = plt.subplot(4, 4, i + 1)\n",
        "    plt.imshow(real_samples[i].reshape(28, 28), cmap=\"gray_r\")\n",
        "    plt.xticks([])\n",
        "    plt.yticks([])"
      ],
      "metadata": {
        "colab": {
          "base_uri": "https://localhost:8080/",
          "height": 406
        },
        "id": "GznTzsgpF06a",
        "outputId": "e44cbf4b-7d4d-4c79-e1f1-36e0ec1501a3"
      },
      "execution_count": 19,
      "outputs": [
        {
          "output_type": "display_data",
          "data": {
            "text/plain": [
              "<Figure size 640x480 with 16 Axes>"
            ],
            "image/png": "[encoded data removed]"
          },
          "metadata": {}
        }
      ]
    },
    {
      "cell_type": "code",
      "source": [
        "class Discriminator(nn.Module):\n",
        "    def __init__(self):\n",
        "        super().__init__()\n",
        "        self.model = nn.Sequential(\n",
        "            nn.Linear(784, 1024),\n",
        "            nn.ReLU(),\n",
        "            nn.Dropout(0.3),\n",
        "            nn.Linear(1024, 512),\n",
        "            nn.ReLU(),\n",
        "            nn.Dropout(0.3),\n",
        "            nn.Linear(512, 256),\n",
        "            nn.ReLU(),\n",
        "            nn.Dropout(0.3),\n",
        "            nn.Linear(256, 1),\n",
        "            nn.Sigmoid(),\n",
        "        )\n",
        "\n",
        "    def forward(self, x):\n",
        "        x = x.view(x.size(0), 784)\n",
        "        output = self.model(x)\n",
        "        return output"
      ],
      "metadata": {
        "id": "iJKkVzXDGElo"
      },
      "execution_count": 20,
      "outputs": []
    },
    {
      "cell_type": "code",
      "source": [
        "discriminator = Discriminator().to(device=device)"
      ],
      "metadata": {
        "id": "2CWIDWeGGJDZ"
      },
      "execution_count": 21,
      "outputs": []
    },
    {
      "cell_type": "code",
      "source": [
        "class Generator(nn.Module):\n",
        "    def __init__(self):\n",
        "        super().__init__()\n",
        "        self.model = nn.Sequential(\n",
        "            nn.Linear(100, 256),\n",
        "            nn.ReLU(),\n",
        "            nn.Linear(256, 512),\n",
        "            nn.ReLU(),\n",
        "            nn.Linear(512, 1024),\n",
        "            nn.ReLU(),\n",
        "            nn.Linear(1024, 784),\n",
        "            nn.Tanh(),\n",
        "        )\n",
        "\n",
        "    def forward(self, x):\n",
        "        output = self.model(x)\n",
        "        output = output.view(x.size(0), 1, 28, 28)\n",
        "        return output\n",
        "\n",
        "generator = Generator().to(device=device)"
      ],
      "metadata": {
        "id": "qs6ph3wEGLV-"
      },
      "execution_count": 22,
      "outputs": []
    },
    {
      "cell_type": "code",
      "source": [
        "lr = 0.0001\n",
        "num_epochs = 50\n",
        "loss_function = nn.BCELoss()\n",
        "\n",
        "optimizer_discriminator = torch.optim.Adam(discriminator.parameters(), lr=lr)\n",
        "optimizer_generator = torch.optim.Adam(generator.parameters(), lr=lr)"
      ],
      "metadata": {
        "id": "GXbRzwaGGOXv"
      },
      "execution_count": 23,
      "outputs": []
    },
    {
      "cell_type": "code",
      "source": [
        "for epoch in range(num_epochs):\n",
        "    for n, (real_samples, mnist_labels) in enumerate(train_loader):\n",
        "        # Data for training the discriminator\n",
        "        real_samples = real_samples.to(device=device)\n",
        "        real_samples_labels = torch.ones((batch_size, 1)).to(\n",
        "            device=device\n",
        "        )\n",
        "        latent_space_samples = torch.randn((batch_size, 100)).to(\n",
        "            device=device\n",
        "        )\n",
        "        generated_samples = generator(latent_space_samples)\n",
        "        generated_samples_labels = torch.zeros((batch_size, 1)).to(\n",
        "            device=device\n",
        "        )\n",
        "        all_samples = torch.cat((real_samples, generated_samples))\n",
        "        all_samples_labels = torch.cat(\n",
        "            (real_samples_labels, generated_samples_labels)\n",
        "        )\n",
        "\n",
        "        # Training the discriminator\n",
        "        discriminator.zero_grad()\n",
        "        output_discriminator = discriminator(all_samples)\n",
        "        loss_discriminator = loss_function(\n",
        "            output_discriminator, all_samples_labels\n",
        "        )\n",
        "        loss_discriminator.backward()\n",
        "        optimizer_discriminator.step()\n",
        "\n",
        "        # Data for training the generator\n",
        "        latent_space_samples = torch.randn((batch_size, 100)).to(\n",
        "            device=device\n",
        "        )\n",
        "\n",
        "        # Training the generator\n",
        "        generator.zero_grad()\n",
        "        generated_samples = generator(latent_space_samples)\n",
        "        output_discriminator_generated = discriminator(generated_samples)\n",
        "        loss_generator = loss_function(\n",
        "            output_discriminator_generated, real_samples_labels\n",
        "        )\n",
        "        loss_generator.backward()\n",
        "        optimizer_generator.step()\n",
        "\n",
        "        # Show loss\n",
        "        if n == batch_size - 1:\n",
        "            print(f\"Epoch: {epoch} Loss D.: {loss_discriminator}\")\n",
        "            print(f\"Epoch: {epoch} Loss G.: {loss_generator}\")"
      ],
      "metadata": {
        "colab": {
          "base_uri": "https://localhost:8080/"
        },
        "id": "SYX8-osAGRET",
        "outputId": "531e599b-b3d9-4c6e-93e1-b21b3c895bd2"
      },
      "execution_count": null,
      "outputs": [
        {
          "output_type": "stream",
          "name": "stdout",
          "text": [
            "Epoch: 0 Loss D.: 0.5674746632575989\n",
            "Epoch: 0 Loss G.: 0.47381576895713806\n",
            "Epoch: 1 Loss D.: 0.03447353094816208\n",
            "Epoch: 1 Loss G.: 5.651956558227539\n",
            "Epoch: 2 Loss D.: 0.01271700207144022\n",
            "Epoch: 2 Loss G.: 6.407260894775391\n",
            "Epoch: 3 Loss D.: 0.07812672108411789\n",
            "Epoch: 3 Loss G.: 4.5330119132995605\n",
            "Epoch: 4 Loss D.: 0.037210602313280106\n",
            "Epoch: 4 Loss G.: 4.829922676086426\n",
            "Epoch: 5 Loss D.: 0.061813581734895706\n",
            "Epoch: 5 Loss G.: 5.321773052215576\n"
          ]
        }
      ]
    },
    {
      "cell_type": "code",
      "source": [
        "latent_space_samples = torch.randn(batch_size, 100).to(device=device)\n",
        "generated_samples = generator(latent_space_samples)"
      ],
      "metadata": {
        "id": "YpB4dS_7GY74"
      },
      "execution_count": null,
      "outputs": []
    },
    {
      "cell_type": "code",
      "source": [
        "generated_samples = generated_samples.cpu().detach()\n",
        "for i in range(16):\n",
        "    ax = plt.subplot(4, 4, i + 1)\n",
        "    plt.imshow(generated_samples[i].reshape(28, 28), cmap=\"gray_r\")\n",
        "    plt.xticks([])\n",
        "    plt.yticks([])"
      ],
      "metadata": {
        "id": "kaDpHFsnGXdi"
      },
      "execution_count": null,
      "outputs": []
    }
  ]
}